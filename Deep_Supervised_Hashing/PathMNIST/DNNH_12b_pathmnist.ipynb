{
 "cells": [
  {
   "cell_type": "code",
   "execution_count": 1,
   "metadata": {},
   "outputs": [
    {
     "name": "stdout",
     "output_type": "stream",
     "text": [
      "(89996, 512)\n"
     ]
    },
    {
     "name": "stderr",
     "output_type": "stream",
     "text": [
      "/home/pmao/anaconda3/lib/python3.11/site-packages/sklearn/neighbors/_classification.py:215: DataConversionWarning: A column-vector y was passed when a 1d array was expected. Please change the shape of y to (n_samples,), for example using ravel().\n",
      "  return self._fit(X, y)\n"
     ]
    },
    {
     "name": "stdout",
     "output_type": "stream",
     "text": [
      "Accuracy: 0.7562674094707521\n",
      "Classification Report:\n",
      "              precision    recall  f1-score   support\n",
      "\n",
      "           0       0.93      0.98      0.96      1338\n",
      "           1       0.94      0.99      0.97       847\n",
      "           2       0.44      0.77      0.56       339\n",
      "           3       0.77      0.84      0.81       634\n",
      "           4       0.81      0.56      0.67      1035\n",
      "           5       0.61      0.62      0.61       592\n",
      "           6       0.80      0.68      0.74       741\n",
      "           7       0.30      0.39      0.34       421\n",
      "           8       0.80      0.70      0.74      1233\n",
      "\n",
      "    accuracy                           0.76      7180\n",
      "   macro avg       0.71      0.73      0.71      7180\n",
      "weighted avg       0.78      0.76      0.76      7180\n",
      "\n",
      "Confusion Matrix:\n",
      "[[1310    4    3    0   15    3    3    0    0]\n",
      " [   3  841    0    0    2    0    0    1    0]\n",
      " [   0    1  262    4    0   46    0   24    2]\n",
      " [   0    1   45  534    2    0   12    3   37]\n",
      " [  83   43   20   29  583   61   12  155   49]\n",
      " [   1    1   58    1    8  367    3  141   12]\n",
      " [   4    0   35   33   52    9  506   12   90]\n",
      " [   0    1   81   28   25   86    6  166   28]\n",
      " [   4    0   98   61   30   34   88   57  861]]\n"
     ]
    }
   ],
   "source": [
    "import torch\n",
    "import torch.nn as nn\n",
    "import torch.nn.functional as F\n",
    "import os\n",
    "from itertools import product\n",
    "from random import shuffle\n",
    "from tqdm import tqdm\n",
    "\n",
    "from KNN_Embeddings import *"
   ]
  },
  {
   "cell_type": "code",
   "execution_count": 2,
   "metadata": {},
   "outputs": [],
   "source": [
    "# Feature normalization\n",
    "from sklearn.preprocessing import StandardScaler\n",
    "from torch.utils.data import DataLoader, TensorDataset, Dataset\n",
    "import random\n",
    "\n",
    "class TripletDataset(Dataset):\n",
    "    def __init__(self, embeddings, labels):\n",
    "        self.embeddings = embeddings\n",
    "        # Ensure labels are in a flat, 1D array\n",
    "        if labels.dim() > 1:\n",
    "            labels = labels.view(-1)\n",
    "        self.labels = labels\n",
    "        self.labels_set = set(labels.numpy())\n",
    "        self.label_to_indices = {label: np.where(labels.numpy() == label)[0]\n",
    "                                 for label in self.labels_set}\n",
    "\n",
    "    def __getitem__(self, index):\n",
    "        anchor = self.embeddings[index]\n",
    "        anchor_label = self.labels[index].item()\n",
    "        positive_index = index\n",
    "        while positive_index == index:\n",
    "            positive_index = random.choice(self.label_to_indices[anchor_label])\n",
    "        negative_label = random.choice(list(self.labels_set - {anchor_label}))\n",
    "        negative_index = random.choice(self.label_to_indices[negative_label])\n",
    "        positive = self.embeddings[positive_index]\n",
    "        negative = self.embeddings[negative_index]\n",
    "        return anchor, positive, negative, anchor_label, negative_label\n",
    "\n",
    "    def __len__(self):\n",
    "        return len(self.embeddings)\n",
    "\n",
    "\n",
    "# Create a scaler object\n",
    "scaler = StandardScaler()\n",
    "\n",
    "# Fit on training data and transform both training and test data\n",
    "X_train_normalized = scaler.fit_transform(X_train)\n",
    "X_test_normalized = scaler.transform(X_test)\n",
    "\n",
    "X_train_tensor = torch.tensor(X_train_normalized, dtype=torch.float)\n",
    "y_train_tensor = torch.tensor(y_train, dtype=torch.long)\n",
    "X_test_tensor = torch.tensor(X_test_normalized, dtype=torch.float)\n",
    "y_test_tensor = torch.tensor(y_test, dtype=torch.long)\n",
    "\n",
    "train_dataset = TripletDataset(X_train_tensor, y_train_tensor)\n",
    "test_dataset = TripletDataset(X_test_tensor, y_test_tensor)\n",
    "\n",
    "train_loader = DataLoader(train_dataset, batch_size=64, shuffle=True, num_workers=4)\n",
    "test_loader = DataLoader(test_dataset, batch_size=64, shuffle=False, num_workers=4)\n",
    "\n"
   ]
  },
  {
   "cell_type": "markdown",
   "metadata": {},
   "source": [
    "## Shared Sub Network"
   ]
  },
  {
   "cell_type": "code",
   "execution_count": 3,
   "metadata": {},
   "outputs": [],
   "source": [
    "class SharedSubNet(nn.Module):\n",
    "    def __init__(self):\n",
    "        super(SharedSubNet, self).__init__()\n",
    "        self.conv1 = nn.Conv2d(3, 32, kernel_size=5, stride=1, padding=2)\n",
    "        self.pool = nn.MaxPool2d(kernel_size=2, stride=2)\n",
    "        self.conv2 = nn.Conv2d(32, 64, kernel_size=5, stride=1, padding=2)\n",
    "        self.conv3 = nn.Conv2d(64, 50, kernel_size=1, stride=1)  # Using 1x1 convolutions\n",
    "        self.global_pool = nn.AdaptiveAvgPool2d((1, 1))\n",
    "\n",
    "    def forward(self, x):\n",
    "        x = F.relu(self.conv1(x))\n",
    "        x = self.pool(x)\n",
    "        x = F.relu(self.conv2(x))\n",
    "        x = F.relu(self.conv3(x))\n",
    "        x = self.global_pool(x)\n",
    "        x = x.view(x.size(0), -1)\n",
    "        return x"
   ]
  },
  {
   "cell_type": "markdown",
   "metadata": {},
   "source": [
    "## Divide and Encode module"
   ]
  },
  {
   "cell_type": "code",
   "execution_count": 4,
   "metadata": {},
   "outputs": [],
   "source": [
    "class DivideAndEncode(nn.Module):\n",
    "    def __init__(self, num_slices=50, bits_per_slice=1, num_bits=10):\n",
    "        super(DivideAndEncode, self).__init__()\n",
    "        self.num_slices = num_slices\n",
    "        self.bits_per_slice = bits_per_slice\n",
    "        self.fc_layers = nn.ModuleList([nn.Linear(num_slices, bits_per_slice) for _ in range(num_bits)])\n",
    "\n",
    "    def forward(self, x):\n",
    "        outputs = []\n",
    "        for fc in self.fc_layers:\n",
    "            out = F.sigmoid(fc(x))  # Applying sigmoid to restrict output to [0, 1]\n",
    "            out = self.piecewise_threshold(out)\n",
    "            outputs.append(out)\n",
    "        return torch.cat(outputs, dim=1)\n",
    "\n",
    "    def piecewise_threshold(self, s, epsilon=0.05):\n",
    "        return torch.where(s < 0.5 - epsilon, torch.zeros_like(s),\n",
    "                           torch.where(s > 0.5 + epsilon, torch.ones_like(s), s))\n"
   ]
  },
  {
   "cell_type": "markdown",
   "metadata": {},
   "source": [
    "## Triplet Ranking Loss"
   ]
  },
  {
   "cell_type": "code",
   "execution_count": 5,
   "metadata": {},
   "outputs": [],
   "source": [
    "class TripletRankingLoss(nn.Module):\n",
    "    def __init__(self, margin=1.0):\n",
    "        super(TripletRankingLoss, self).__init__()\n",
    "        self.margin = margin\n",
    "\n",
    "    def forward(self, anchor, positive, negative):\n",
    "        distance_positive = (anchor - positive).pow(2).sum(1)  # L2 squared\n",
    "        distance_negative = (anchor - negative).pow(2).sum(1)  # L2 squared\n",
    "        losses = F.relu(distance_positive - distance_negative + self.margin)\n",
    "        return losses.mean()\n"
   ]
  },
  {
   "cell_type": "markdown",
   "metadata": {},
   "source": [
    "## Training"
   ]
  },
  {
   "cell_type": "code",
   "execution_count": 6,
   "metadata": {},
   "outputs": [
    {
     "name": "stdout",
     "output_type": "stream",
     "text": [
      "Epoch 1, Loss: 0.29163168571418113\n",
      "Epoch 2, Loss: 0.2286275958413339\n",
      "Epoch 3, Loss: 0.20683237273767643\n",
      "Epoch 4, Loss: 0.1958789852922405\n",
      "Epoch 5, Loss: 0.18676781750005467\n",
      "Epoch 6, Loss: 0.1801425282576657\n",
      "Epoch 7, Loss: 0.17145759954932063\n",
      "Epoch 8, Loss: 0.1670687555361277\n",
      "Epoch 9, Loss: 0.1616153128408081\n",
      "Epoch 10, Loss: 0.15604110864635132\n",
      "Epoch 11, Loss: 0.15490610810035116\n",
      "Epoch 12, Loss: 0.14859367989919756\n",
      "Epoch 13, Loss: 0.14487469986388254\n",
      "Epoch 14, Loss: 0.1413496836077345\n",
      "Epoch 15, Loss: 0.13714661054953922\n",
      "Epoch 16, Loss: 0.1352513801616265\n",
      "Epoch 17, Loss: 0.1302770728592224\n",
      "Epoch 18, Loss: 0.12941880854523152\n",
      "Epoch 19, Loss: 0.12539509370096966\n",
      "Epoch 20, Loss: 0.12288021392307451\n",
      "Training time for Epoch: 348.91825222969055 seconds\n"
     ]
    }
   ],
   "source": [
    "import time\n",
    "    \n",
    "class IntegratedModel(nn.Module):\n",
    "    def __init__(self, num_bits):\n",
    "        super(IntegratedModel, self).__init__()\n",
    "        self.shared_subnet = SharedSubNet()\n",
    "        self.divide_and_encode = DivideAndEncode(num_slices=50, bits_per_slice=1, num_bits=num_bits)\n",
    "        self.fc = nn.Linear(24, 512)  # Adjusted input size\n",
    "        self.relu = nn.ReLU()\n",
    "        self.final_fc = nn.Linear(512, num_bits)  # Output bits as the number of output features\n",
    "\n",
    "    def forward(self, x):\n",
    "        x = self.shared_subnet(x)\n",
    "        print(\"Shape after SharedSubNet:\", x.shape)\n",
    "        x = self.divide_and_encode(x)\n",
    "        print(\"Shape after DivideAndEncode:\", x.shape)\n",
    "        x = self.fc(x)\n",
    "        x = self.relu(x)\n",
    "        x = self.final_fc(x)\n",
    "        x = torch.tanh(x)\n",
    "        x = F.normalize(x, p=2, dim=1)\n",
    "        return x\n",
    "\n",
    "device = torch.device(\"cuda\" if torch.cuda.is_available() else \"cpu\")\n",
    "# Model, optimizer, and loss\n",
    "model = IntegratedModel(input_dim=X_train_tensor.shape[1], num_bits=12).to(device)\n",
    "optimizer = torch.optim.Adam(model.parameters(), lr=0.0001)\n",
    "loss_func = TripletRankingLoss()\n",
    "\n",
    "start_time = time.time()\n",
    "for epoch in range(20):\n",
    "    model.train()\n",
    "    total_loss = 0.0\n",
    "    for anchor, positive, negative, _, _ in train_loader:\n",
    "        anchor, positive, negative = anchor.to(device), positive.to(device), negative.to(device)\n",
    "        optimizer.zero_grad()\n",
    "        anchor_output = model(anchor)\n",
    "        positive_output = model(positive)\n",
    "        negative_output = model(negative)\n",
    "        loss = loss_func(anchor_output, positive_output, negative_output)\n",
    "        loss.backward()\n",
    "        optimizer.step()\n",
    "        total_loss += loss.item()\n",
    "    print(f'Epoch {epoch+1}, Loss: {total_loss / len(train_loader)}')\n",
    "\n",
    "epoch_duration = time.time() - start_time\n",
    "print(f\"Training time for Epoch: {epoch_duration} seconds\")"
   ]
  },
  {
   "cell_type": "markdown",
   "metadata": {},
   "source": [
    "## KNN on hashed embeddings"
   ]
  },
  {
   "cell_type": "code",
   "execution_count": 7,
   "metadata": {},
   "outputs": [
    {
     "name": "stdout",
     "output_type": "stream",
     "text": [
      "              precision    recall  f1-score   support\n",
      "\n",
      "           0       0.95      0.97      0.96      1338\n",
      "           1       0.93      0.99      0.96       847\n",
      "           2       0.39      0.60      0.47       339\n",
      "           3       0.91      0.84      0.87       634\n",
      "           4       0.90      0.76      0.82      1035\n",
      "           5       0.61      0.65      0.63       592\n",
      "           6       0.84      0.76      0.80       741\n",
      "           7       0.41      0.49      0.44       421\n",
      "           8       0.85      0.78      0.82      1233\n",
      "\n",
      "    accuracy                           0.80      7180\n",
      "   macro avg       0.76      0.76      0.75      7180\n",
      "weighted avg       0.82      0.80      0.81      7180\n",
      "\n",
      "Mean Average Precision (MAP): 0.7130132930594328\n"
     ]
    }
   ],
   "source": [
    "from sklearn.neighbors import KNeighborsClassifier\n",
    "from sklearn.metrics import classification_report\n",
    "from sklearn.metrics import average_precision_score\n",
    "from sklearn.preprocessing import label_binarize\n",
    "import numpy as np\n",
    "\n",
    "def evaluate_model(model, test_loader, device):\n",
    "    model.eval()\n",
    "    embeddings = []\n",
    "    labels = []\n",
    "    with torch.no_grad():\n",
    "        for anchor, _, _, label_a, _ in test_loader:  # Correctly unpack all elements\n",
    "            anchor = anchor.to(device)\n",
    "            output = model(anchor)\n",
    "            embeddings.append(output.cpu())\n",
    "            labels.append(label_a)\n",
    "    embeddings = torch.cat(embeddings)\n",
    "    labels = torch.cat(labels)\n",
    "    return embeddings, labels\n",
    "\n",
    "# Ensure model and device are defined and properly initialized\n",
    "# Example: model = DPSH(input_dim=X_train.shape[1], num_bits=48).to(device)\n",
    "# and device is defined like device = torch.device(\"cuda\" if torch.cuda.is_available() else \"cpu\")\n",
    "\n",
    "# Extract hash codes\n",
    "train_codes, train_labels = evaluate_model(model, train_loader, device)\n",
    "test_codes, test_labels = evaluate_model(model, test_loader, device)\n",
    "\n",
    "# Classification with KNN\n",
    "knn = KNeighborsClassifier(n_neighbors=5, metric='euclidean')\n",
    "knn.fit(train_codes, train_labels)\n",
    "predictions = knn.predict(test_codes)\n",
    "y_pred_proba = knn.predict_proba(test_codes)\n",
    "\n",
    "print(classification_report(test_labels, predictions))\n",
    "\n",
    "# Binarize the labels for a one-vs-rest computation\n",
    "y_test_binarized = label_binarize(test_labels, classes=np.unique(train_labels))  # Updated to use `test_labels`\n",
    "\n",
    "# Calculate the average precision for each class\n",
    "average_precisions = []\n",
    "for i in range(y_test_binarized.shape[1]):  # iterate over classes\n",
    "    average_precisions.append(average_precision_score(y_test_binarized[:, i], y_pred_proba[:, i]))\n",
    "\n",
    "# Compute the mean of the average precisions\n",
    "map_score = np.mean(average_precisions)\n",
    "print(f'Mean Average Precision (MAP): {map_score}')\n"
   ]
  }
 ],
 "metadata": {
  "kernelspec": {
   "display_name": "deephashing1",
   "language": "python",
   "name": "deephashing1"
  },
  "language_info": {
   "codemirror_mode": {
    "name": "ipython",
    "version": 3
   },
   "file_extension": ".py",
   "mimetype": "text/x-python",
   "name": "python",
   "nbconvert_exporter": "python",
   "pygments_lexer": "ipython3",
   "version": "3.11.7"
  }
 },
 "nbformat": 4,
 "nbformat_minor": 2
}
