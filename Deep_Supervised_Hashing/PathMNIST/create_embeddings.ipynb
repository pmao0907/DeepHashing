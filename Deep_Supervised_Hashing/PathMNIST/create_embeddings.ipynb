{
 "cells": [
  {
   "cell_type": "code",
   "execution_count": null,
   "metadata": {},
   "outputs": [],
   "source": [
    "import medmnist\n",
    "from medmnist import INFO\n",
    "import numpy as np\n",
    "import torch\n",
    "from torchvision import models, transforms\n",
    "\n",
    "\n",
    "data_flag = 'pathmnist'\n",
    "info = INFO[data_flag]\n",
    "DataClass = getattr(medmnist, info['python_class'])\n",
    "\n",
    "# Load the data\n",
    "data_transform = transforms.Compose([\n",
    "    transforms.ToTensor(),\n",
    "    transforms.Normalize(mean=[0.5], std=[0.5])  # Normalize the data\n",
    "])\n",
    "\n",
    "# Initialize the dataset\n",
    "train_data = DataClass(split='train', transform=data_transform, download=True)\n",
    "test_data = DataClass(split='test', transform=data_transform, download=True)\n"
   ]
  },
  {
   "cell_type": "code",
   "execution_count": null,
   "metadata": {},
   "outputs": [],
   "source": [
    "# Load a pre-trained ResNet model\n",
    "model = models.resnet18(pretrained=True)\n",
    "model.fc = torch.nn.Identity()  # Modify the fully connected layer to output embeddings\n",
    "\n",
    "# Use GPU if available\n",
    "device = torch.device(\"cuda\" if torch.cuda.is_available() else \"cpu\")\n",
    "model = model.to(device)\n",
    "model.eval()  # Set the model to evaluation mode\n"
   ]
  },
  {
   "cell_type": "code",
   "execution_count": null,
   "metadata": {},
   "outputs": [],
   "source": [
    "def get_embeddings(dataset):\n",
    "    loader = torch.utils.data.DataLoader(dataset, batch_size=64, shuffle=False)\n",
    "    embeddings = []\n",
    "    labels = []\n",
    "\n",
    "    with torch.no_grad():\n",
    "        for images, targets in loader:\n",
    "            images = images.to(device)\n",
    "            out = model(images)\n",
    "            embeddings.append(out.cpu().numpy())\n",
    "            labels.append(targets.numpy())\n",
    "\n",
    "    embeddings = np.concatenate(embeddings, axis=0)\n",
    "    labels = np.concatenate(labels, axis=0)\n",
    "    return embeddings, labels\n"
   ]
  },
  {
   "cell_type": "code",
   "execution_count": null,
   "metadata": {},
   "outputs": [],
   "source": [
    "\n",
    "\n",
    "# Get embeddings for train and test datasets\n",
    "train_embeddings, train_labels = get_embeddings(train_data)\n",
    "test_embeddings, test_labels = get_embeddings(test_data)\n",
    "\n",
    "# Save the embeddings and labels in .npz format\n",
    "np.savez(\"pathmnist_train.npz\", embeddings=train_embeddings, labels=train_labels)\n",
    "np.savez(\"pathmnist_test.npz\", embeddings=test_embeddings, labels=test_labels)\n"
   ]
  }
 ],
 "metadata": {
  "kernelspec": {
   "display_name": "deephashing1",
   "language": "python",
   "name": "deephashing1"
  },
  "language_info": {
   "codemirror_mode": {
    "name": "ipython",
    "version": 3
   },
   "file_extension": ".py",
   "mimetype": "text/x-python",
   "name": "python",
   "nbconvert_exporter": "python",
   "pygments_lexer": "ipython3",
   "version": "3.11.7"
  }
 },
 "nbformat": 4,
 "nbformat_minor": 2
}
